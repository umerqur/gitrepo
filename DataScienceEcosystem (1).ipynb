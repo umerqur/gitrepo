{
 "cells": [
  {
   "cell_type": "markdown",
   "id": "18267b3e-7eaf-4a42-b1f8-c3705917a8b8",
   "metadata": {},
   "source": [
    "<h1> Data Science Tools and Ecosystem </h1>"
   ]
  },
  {
   "cell_type": "markdown",
   "id": "d8ed6078-a119-4d5e-a30b-41970b649ded",
   "metadata": {},
   "source": [
    "Data Science Tools and Ecosystem"
   ]
  },
  {
   "cell_type": "markdown",
   "id": "e3a927ad-7afc-498b-b247-105b100dd9bb",
   "metadata": {},
   "source": [
    "In this notebook, Data Science Tools and Ecosystem are summarized.\n"
   ]
  },
  {
   "cell_type": "markdown",
   "id": "e7dd309a-781e-4299-9620-3c20600d24ba",
   "metadata": {},
   "source": [
    "**Objectives:**\n",
    "\n",
    "- List popular languages for Data Science\n",
    "- Evaluate simple expressions/calculations\n",
    "- List popular tools used for data science\n",
    "- List popular libraries used for data science\n",
    "- Explore github through a hands on lab 3"
   ]
  },
  {
   "cell_type": "markdown",
   "id": "8f6e121a-e13a-4eee-ad33-ee0c4c7e1b41",
   "metadata": {},
   "source": [
    "Some of the popular languages that Data Scientists use are:\n",
    "\n",
    "1. Python\n",
    "2. R\n",
    "3. Julia"
   ]
  },
  {
   "cell_type": "markdown",
   "id": "ec890e84-ac1a-4482-8877-b7c070bc80be",
   "metadata": {},
   "source": [
    "Some of the commonly used libraries used by Data Scientists include:\r",
    "1. Pandas\n",
    "2. Numpy\n",
    "3. SciPy\n"
   ]
  },
  {
   "cell_type": "markdown",
   "id": "561356cb-d6f9-47c3-bb39-8bab48fd4e45",
   "metadata": {},
   "source": [
    "| Data Science Tools |\n",
    "| ------------------| \n",
    "|Jupyter Labs|\n",
    "|RStudio|\n",
    "|Spyder|\n",
    " "
   ]
  },
  {
   "cell_type": "markdown",
   "id": "44a9d511-8661-4b46-a3cc-634a4d4d78e3",
   "metadata": {},
   "source": [
    "<h3>Below are a few examples of evaluating arithmetic expressions in Python. </h3>\n"
   ]
  },
  {
   "cell_type": "code",
   "execution_count": 3,
   "id": "09c2d681-ddff-4f2a-b1cd-65ad744a7b72",
   "metadata": {},
   "outputs": [
    {
     "data": {
      "text/plain": [
       "17"
      ]
     },
     "execution_count": 3,
     "metadata": {},
     "output_type": "execute_result"
    }
   ],
   "source": [
    "#This a simple arithmetic expression to mutiply then add integers.\n",
    "(3*4)+5"
   ]
  },
  {
   "cell_type": "code",
   "execution_count": 4,
   "id": "57f3bcf5-0509-46e5-9e0b-6d52e630ee07",
   "metadata": {},
   "outputs": [
    {
     "name": "stdout",
     "output_type": "stream",
     "text": [
      "3.3333333333333335\n"
     ]
    }
   ],
   "source": [
    "#This will convert 200 minutes to hours by diving by 60\n",
    "Hours = 200/60\n",
    "print (Hours)"
   ]
  },
  {
   "cell_type": "markdown",
   "id": "6c1058cb-61b9-4dd1-89c5-e88a3ac0b9d1",
   "metadata": {},
   "source": [
    "<h2> Author </h2>"
   ]
  },
  {
   "cell_type": "markdown",
   "id": "3c9886a1-ddb2-486d-b505-b95a51734a62",
   "metadata": {},
   "source": [
    "Umer Qureshi"
   ]
  },
  {
   "cell_type": "code",
   "execution_count": null,
   "id": "75cd7b51-b7f9-471c-9dc8-b765f2410b5f",
   "metadata": {},
   "outputs": [],
   "source": []
  }
 ],
 "metadata": {
  "kernelspec": {
   "display_name": "Python 3 (ipykernel)",
   "language": "python",
   "name": "python3"
  },
  "language_info": {
   "codemirror_mode": {
    "name": "ipython",
    "version": 3
   },
   "file_extension": ".py",
   "mimetype": "text/x-python",
   "name": "python",
   "nbconvert_exporter": "python",
   "pygments_lexer": "ipython3",
   "version": "3.11.5"
  }
 },
 "nbformat": 4,
 "nbformat_minor": 5
}
